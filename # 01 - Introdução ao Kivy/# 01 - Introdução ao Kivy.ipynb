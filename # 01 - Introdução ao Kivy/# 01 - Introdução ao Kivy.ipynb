{
  "nbformat": 4,
  "nbformat_minor": 0,
  "metadata": {
    "colab": {
      "name": "# 01 - Introdução ao Kivy.ipynb",
      "provenance": [],
      "collapsed_sections": []
    },
    "kernelspec": {
      "name": "python3",
      "display_name": "Python 3"
    },
    "language_info": {
      "name": "python"
    }
  },
  "cells": [
    {
      "cell_type": "markdown",
      "source": [
        "# Introdução ao Kivy"
      ],
      "metadata": {
        "id": "fKNxIX2LH2wK"
      }
    },
    {
      "cell_type": "markdown",
      "source": [
        "Kivy é uma biblioteca destinada a criação de interfaces gráficas do usuário (GUI) multiplataforma, ou seja, o projeto gerado no computador pode ser exportado para qualquer dispositivo, seja mobile ou desktop. Vamos instalar a biblioteca!"
      ],
      "metadata": {
        "id": "5wendy8YGuWl"
      }
    },
    {
      "cell_type": "markdown",
      "source": [
        "## Instalar o Kivy"
      ],
      "metadata": {
        "id": "YI3NAaPiHzpx"
      }
    },
    {
      "cell_type": "markdown",
      "source": [
        "O Kivy pode ser instalado por duas maneiras: pelo `pip`ou pelo `conda`."
      ],
      "metadata": {
        "id": "v6XbNfdnIDCo"
      }
    },
    {
      "cell_type": "markdown",
      "source": [
        "### Instalação do Kivy pelo `pip`"
      ],
      "metadata": {
        "id": "pOiklVILIL2v"
      }
    },
    {
      "cell_type": "markdown",
      "source": [
        "Para instalar pelo `pip`, abra o prompt de comando do computador e digite o seguinte código:\n",
        "\n",
        "```\n",
        "python -m pip install kivy\n",
        "```\n",
        "\n",
        "Espere instalar todas as dependências e feche o prompt."
      ],
      "metadata": {
        "id": "DR4WsyHHIQ8P"
      }
    },
    {
      "cell_type": "markdown",
      "source": [
        "### Intalação do Kivy pelo `conda`"
      ],
      "metadata": {
        "id": "LrOTSMqtIf5f"
      }
    },
    {
      "cell_type": "markdown",
      "source": [
        "Para instalar pelo `conda`, abra o prompt de comando do computador e digite o seguinte código:\n",
        "\n",
        "```\n",
        "conda install kivy -c conda-forge\n",
        "```\n",
        "\n",
        "Espere instalar todas as dependências e feche o prompt."
      ],
      "metadata": {
        "id": "p9-uwBT1IjSP"
      }
    },
    {
      "cell_type": "markdown",
      "source": [
        "Vamos ao que interessa: vamos ao código!"
      ],
      "metadata": {
        "id": "d0eI_q3_Jozs"
      }
    },
    {
      "cell_type": "markdown",
      "source": [
        "## Olá, Mundo!"
      ],
      "metadata": {
        "id": "hiDROPqqJwDr"
      }
    },
    {
      "cell_type": "markdown",
      "source": [
        "Vamos criar o código para que seja mostrada a famosa frase 'Ola, Mundo!' na tela em um aplicativo Kivy.\n",
        "\n",
        "O código é o seguite:"
      ],
      "metadata": {
        "id": "WoOSHnPOJylj"
      }
    },
    {
      "cell_type": "code",
      "source": [
        "# Importar as bibliotecas\n",
        "from kivy.app import App  # 1\n",
        "from kivy.uix.label import Label  # 2\n",
        "\n",
        "\n",
        "# Criar a classe do aplicativo\n",
        "class MeuApp(App):  # 3\n",
        "  def build(self):  # 4\n",
        "    return Label(text='Ola, Mundo!', font_size=72)  # 5\n",
        "\n",
        "\n",
        "if __name__ == '__main__':\n",
        "  MeuApp().run()  # 6"
      ],
      "metadata": {
        "id": "KYGB-OUlJx6Z"
      },
      "execution_count": null,
      "outputs": []
    },
    {
      "cell_type": "markdown",
      "source": [
        "1: Importar o código para a criação do aplicativo.\n",
        "\n",
        "2: Importar o código para colocar a frase na tela.\n",
        "\n",
        "3: Criar a classe **MeuApp**.\n",
        "\n",
        "4: Função destinada a armazenar as funções do aplicativo.\n",
        "\n",
        "5: Criar o objeto **Label** com a frase e o tamanho do texto.\n",
        "\n",
        "6: Executar o aplicativo."
      ],
      "metadata": {
        "id": "JNkKO75aLkNO"
      }
    },
    {
      "cell_type": "markdown",
      "source": [
        "Quando o códigi for executado, teremos uma tela com fundo preto e escrito em branco a frase 'Ola Mundo!'."
      ],
      "metadata": {
        "id": "ScbyP92AMdOr"
      }
    }
  ]
}