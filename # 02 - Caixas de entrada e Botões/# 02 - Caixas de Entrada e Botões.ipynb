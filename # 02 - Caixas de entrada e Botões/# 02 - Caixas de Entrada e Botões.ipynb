{
  "nbformat": 4,
  "nbformat_minor": 0,
  "metadata": {
    "colab": {
      "name": "# 02 - Caixas de Entrada e Botões.ipynb",
      "provenance": [],
      "collapsed_sections": []
    },
    "kernelspec": {
      "name": "python3",
      "display_name": "Python 3"
    },
    "language_info": {
      "name": "python"
    }
  },
  "cells": [
    {
      "cell_type": "markdown",
      "source": [
        "# Caixas de entrada e Botões"
      ],
      "metadata": {
        "id": "ypGrTUEfvQSo"
      }
    },
    {
      "cell_type": "markdown",
      "source": [
        "Nessa aula, veremos como montar uma interface do usuário (GUI) com caixas de entrada para textos e botões interativos. Esses widgets são muito importantes para que o usuário possa interagir com o aplicativo."
      ],
      "metadata": {
        "id": "piVIYiQBvURH"
      }
    },
    {
      "cell_type": "markdown",
      "source": [
        "## Vamos ao código!"
      ],
      "metadata": {
        "id": "EazPJqalv_oN"
      }
    },
    {
      "cell_type": "markdown",
      "source": [
        "### Caixa de entrada"
      ],
      "metadata": {
        "id": "_IvV9M_s3Acb"
      }
    },
    {
      "cell_type": "markdown",
      "source": [
        "As linhas do código abaixo serão comentadas com números para facilitar a leitura e montagem do código. A explicação de cada linha será feita posteriormente:"
      ],
      "metadata": {
        "id": "iMex4-brwCDE"
      }
    },
    {
      "cell_type": "code",
      "execution_count": null,
      "metadata": {
        "id": "RpAyagZMvAWK"
      },
      "outputs": [],
      "source": [
        "# Importar as bibliotecas\n",
        "from kivy.app import App  # 1\n",
        "from kivy.uix.label import Label  # 2\n",
        "from kivy.uix.textinput import TextInput  # 3\n",
        "from kivy.uix.gridlayout import GridLayout  # 4\n",
        "\n",
        "\n",
        "class MeuGridLayout(GridLayout):  # 5\n",
        "  # Iniciar a classe\n",
        "  def __init__(self, **kwargs):\n",
        "    # Chamar o construtor do layout de grade\n",
        "    super(MeuGridLayout, self).__init__(**kwargs)\n",
        "\n",
        "    # Configurar as colunas\n",
        "    self.cols = 2\n",
        "\n",
        "    # Adicionar o widget para a Label \"Nome:\"\n",
        "    self.add_widget(Label(text='Nome:'))  # 6\n",
        "    # Adicionar a caixa de entrada para o campo \"Nome\"\n",
        "    self.nome = TextInput(multiline=False)  # 7\n",
        "    self.add_widget(self.nome)\n",
        "\n",
        "    # Adicionar o widget para a Label \"Pizza:\"\n",
        "    self.add_widget(Label(text='Pizza:'))\n",
        "    # Adicionar a caixa de entrada para o campo \"Pizza\"\n",
        "    self.pizza = TextInput(multiline=False)\n",
        "    self.add_widget(self.pizza)\n",
        "\n",
        "    # Adicionar o widget para a Label \"Cor:\"\n",
        "    self.add_widget(Label(text='Cor:'))\n",
        "    # Adicionar a caixa de entrada para o campo \"Cor\"\n",
        "    self.cor = TextInput(multiline=False)\n",
        "    self.add_widget(self.cor)\n",
        "\n",
        "\n",
        "class MeuApp(App):  # 8\n",
        "  def build(self):  # 9\n",
        "    return MeuGridLayout()  # 10\n",
        "\n",
        "\n",
        "if __name__ == '__main__':\n",
        "  MeuApp().run()  # 11"
      ]
    },
    {
      "cell_type": "markdown",
      "source": [
        "1: Importar o código para a criação do aplicativo.\n",
        "\n",
        "2: Importar o código para colocar as opções na tela (as Labels).\n",
        "\n",
        "3: Importar o código para a caixa de entrada de texto.\n",
        "\n",
        "4: Importar o código do layout do aplicativo.\n",
        "\n",
        "5: Criar a classe que armazenará a disposição dos widgets no aplicativo.\n",
        "\n",
        "6: Adicionar os widgets.\n",
        "\n",
        "7: Criar os widgets.\n",
        "\n",
        "8: Criar a classe **MeuApp**.\n",
        "\n",
        "9: Função destianada a gerenciar e criar o design do aplicativo.\n",
        "\n",
        "10: Mostrar na tela o aplicativo já organizado.\n",
        "\n",
        "11: Executar o aplicativo."
      ],
      "metadata": {
        "id": "GlS-zM4h3DwS"
      }
    },
    {
      "cell_type": "markdown",
      "source": [
        "As linhas do código abaixo serão comentadas com números para facilitar a leitura e montagem do código. A explicação de cada linha será feita posteriormente:"
      ],
      "metadata": {
        "id": "s7WlbSw85dQd"
      }
    },
    {
      "cell_type": "code",
      "source": [
        "# Importar as bibliotecas\n",
        "from kivy.app import App\n",
        "from kivy.uix.label import Label\n",
        "from kivy.uix.button import Button  # 1\n",
        "from kivy.uix.textinput import TextInput\n",
        "from kivy.uix.gridlayout import GridLayout\n",
        "\n",
        "\n",
        "class MeuGridLayout(GridLayout):\n",
        "  # Iniciar a classe\n",
        "  def __init__(self, **kwargs):\n",
        "    # Chamar o construtor do layout de grade\n",
        "    super(MeuGridLayout, self).__init__(**kwargs)\n",
        "\n",
        "    # Configurar as colunas\n",
        "    self.cols = 2\n",
        "\n",
        "    # Adicionar o widget para a Label \"Nome:\"\n",
        "    self.add_widget(Label(text='Nome:'))\n",
        "    # Adicionar a caixa de entrada para o campo \"Nome\"\n",
        "    self.nome = TextInput(multiline=False)\n",
        "    self.add_widget(self.nome)\n",
        "\n",
        "    # Adicionar o widget para a Label \"Pizza:\"\n",
        "    self.add_widget(Label(text='Pizza:'))\n",
        "    # Adicionar a caixa de entrada para o campo \"Pizza\"\n",
        "    self.pizza = TextInput(multiline=False)\n",
        "    self.add_widget(self.pizza)\n",
        "\n",
        "    # Adicionar o widget para a Label \"Cor:\"\n",
        "    self.add_widget(Label(text='Cor:'))\n",
        "    # Adicionar a caixa de entrada para o campo \"Cor\"\n",
        "    self.cor = TextInput(multiline=False)\n",
        "    self.add_widget(self.cor)\n",
        "\n",
        "    # Criar o botão \"Enviar\"\n",
        "    self.enviar = Button(text='Enviar', font_size=32)  # 2\n",
        "    # Passar uma função ao botão\n",
        "    self.enviar.bind(on_press=self.funcao_botao)  # 3\n",
        "    # Colocar o botão na tela\n",
        "    self.add_widget(self.enviar)\n",
        "\n",
        "  def funcao_botao(self, instancia):  # 4\n",
        "    # Mostrar o texto de cada entrada do aplicativo\n",
        "    cor = self.cor.text\n",
        "    nome = self.nome.text\n",
        "    pizza = self.pizza.text\n",
        "\n",
        "    # Mostrar no aplicativo\n",
        "    self.add_widget(Label(text=f'Olá {nome}! Você gosta da pizza de {pizza} e a sua cor favorita é {cor}!'))\n",
        "\n",
        "    # Limpar a caixa de entrada \n",
        "    self.cor.text = ''\n",
        "    self.nome.text = ''\n",
        "    self.pizza.text = ''\n",
        "\n",
        "\n",
        "class MeuApp(App):\n",
        "  def build(self):\n",
        "    return MeuGridLayout()\n",
        "\n",
        "\n",
        "if __name__ == '__main__':\n",
        "  MeuApp().run()"
      ],
      "metadata": {
        "id": "S0ix9zL35cw3"
      },
      "execution_count": null,
      "outputs": []
    },
    {
      "cell_type": "markdown",
      "source": [
        "1: Importar o código para o botão.\n",
        "\n",
        "2: Criar o botão.\n",
        "\n",
        "3: Passar uma função para o botão.\n",
        "\n",
        "4: Função que será atribuída ao botão."
      ],
      "metadata": {
        "id": "ynMlvF10-9Qe"
      }
    },
    {
      "cell_type": "markdown",
      "source": [
        "Quando o código for executado, poderemos escrever nas caixas de entrada e ver a saída ao lado do botão!"
      ],
      "metadata": {
        "id": "UOAUd6om_VFF"
      }
    }
  ]
}